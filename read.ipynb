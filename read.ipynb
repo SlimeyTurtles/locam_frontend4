{
  "cells": [
    {
      "cell_type": "raw",
      "metadata": {},
      "source": [
        "---\n",
        "title: Read\n",
        "layout: default\n",
        "execute:\n",
        "    freeze: auto\n",
        "---"
      ],
      "id": "115f1cd3"
    },
    {
      "cell_type": "markdown",
      "metadata": {},
      "source": [
        "```{html}\n",
        "<div class=\"container py-4 bg-primary\">\n",
        "        <!-- Page specific body additions -->\n",
        "        <header class=\"pb-3 mb-4 border-bottom\">\n",
        "            <a href=\"#\" class=\"d-flex align-items-center text-light text-decoration-none\">\n",
        "                <span class=\"fs-4\">Database SQL Person</span>\n",
        "            </a>\n",
        "        </header>\n",
        "\n",
        "<div class=\"container py-4 text-light bg-success\">\n",
        "\n",
        "<h2>Person Viewer</h2>\n",
        "            <a th:href=\"@{/mvc/person/create/}\">Create Person</a>\n",
        "            <div class=\"row align-items-md-stretch\">\n",
        "                <table class=\"table\">\n",
        "                    <thead>\n",
        "                    <tr>\n",
        "                        <th>ID</th>\n",
        "                        <th>User ID</th>\n",
        "                        <th>Person</th>\n",
        "                        <th>Age</th>\n",
        "                        <th>Action</th>\n",
        "                    </tr>\n",
        "                    </thead>\n",
        "                    <tbody>\n",
        "                    <tr th:each=\"person : ${list}\">\n",
        "                        <td th:text=\"${person.id}\">Person ID</td>\n",
        "                        <td th:text=\"${person.email}\">Birth Date</td>\n",
        "                        <td th:text=\"${person.name}\">Name</td>\n",
        "                        <td th:if=\"${person.getAge() != -1}\" th:text=\"${person.getAge()}\">Age</td>\n",
        "                        <td th:unless=\"${person.getAge() != -1}\" th:text=\"Unknown\">Unknown Age</td>\n",
        "                        <td>\n",
        "                            <!--- <a th:href=\"@{/mvc/notes/{id}(id = ${person.id})}\">Notes</a> -->\n",
        "                            <a th:href=\"@{/mvc/person/update/{id}(id = ${person.id})}\">Update</a>\n",
        "                            <a th:href=\"@{/mvc/person/delete/{id}(id = ${person.id})}\">Delete</a>\n",
        "                        </td>\n",
        "                    </tr>\n",
        "                    </tbody>\n",
        "                </table>\n",
        "            </div>\n",
        "        </div>\n",
        "    </div>\n",
        "```"
      ],
      "id": "6bdaf7c8"
    }
  ],
  "metadata": {
    "kernelspec": {
      "name": "python3",
      "language": "python",
      "display_name": "Python 3 (ipykernel)"
    }
  },
  "nbformat": 4,
  "nbformat_minor": 5
}